{
  "nbformat": 4,
  "nbformat_minor": 0,
  "metadata": {
    "colab": {
      "name": "closingprice BBRIJK univariate.ipynb",
      "provenance": [],
      "collapsed_sections": [
        "uhy-ymEjNzMd",
        "EtRgSDiVonNg",
        "VbHIQ5d3_ni8",
        "GxF_ies389x7",
        "V2pZFuDdjuK5"
      ],
      "authorship_tag": "ABX9TyNLxxJQlVa5OZBJ9MDqfsoa",
      "include_colab_link": true
    },
    "kernelspec": {
      "name": "python3",
      "display_name": "Python 3"
    },
    "language_info": {
      "name": "python"
    }
  },
  "cells": [
    {
      "cell_type": "markdown",
      "metadata": {
        "id": "view-in-github",
        "colab_type": "text"
      },
      "source": [
        "<a href=\"https://colab.research.google.com/github/afhabibieee/closing-price-BBRIJK-univariate/blob/main/closingprice_BBRIJK_univariate.ipynb\" target=\"_parent\"><img src=\"https://colab.research.google.com/assets/colab-badge.svg\" alt=\"Open In Colab\"/></a>"
      ]
    },
    {
      "cell_type": "markdown",
      "source": [
        "## Objectives\n",
        "\n",
        "\n",
        "\n",
        "> Menggunakan variable close price (univariate) yang outcomes-nya prediksi closing price untuk 5 hari kedepan (satu minggu)\n",
        "\n"
      ],
      "metadata": {
        "id": "yGxspUqekcs7"
      }
    },
    {
      "cell_type": "markdown",
      "source": [
        "## Install Required Library"
      ],
      "metadata": {
        "id": "uhy-ymEjNzMd"
      }
    },
    {
      "cell_type": "code",
      "metadata": {
        "colab": {
          "base_uri": "https://localhost:8080/"
        },
        "id": "r8Tj5rF3LKKC",
        "outputId": "399e2f88-ba6b-4e63-ab36-8d44bfaaab2b"
      },
      "source": [
        "!pip install yfinance --upgrade --no-cache-dir #(For pip)"
      ],
      "execution_count": null,
      "outputs": [
        {
          "output_type": "stream",
          "name": "stdout",
          "text": [
            "Collecting yfinance\n",
            "  Downloading yfinance-0.1.68-py2.py3-none-any.whl (26 kB)\n",
            "Collecting lxml>=4.5.1\n",
            "  Downloading lxml-4.7.1-cp37-cp37m-manylinux_2_17_x86_64.manylinux2014_x86_64.manylinux_2_24_x86_64.whl (6.4 MB)\n",
            "\u001b[K     |████████████████████████████████| 6.4 MB 51.7 MB/s \n",
            "\u001b[?25hRequirement already satisfied: numpy>=1.15 in /usr/local/lib/python3.7/dist-packages (from yfinance) (1.19.5)\n",
            "Requirement already satisfied: multitasking>=0.0.7 in /usr/local/lib/python3.7/dist-packages (from yfinance) (0.0.10)\n",
            "Collecting requests>=2.26\n",
            "  Downloading requests-2.27.1-py2.py3-none-any.whl (63 kB)\n",
            "\u001b[K     |████████████████████████████████| 63 kB 47.1 MB/s \n",
            "\u001b[?25hRequirement already satisfied: pandas>=0.24 in /usr/local/lib/python3.7/dist-packages (from yfinance) (1.1.5)\n",
            "Requirement already satisfied: python-dateutil>=2.7.3 in /usr/local/lib/python3.7/dist-packages (from pandas>=0.24->yfinance) (2.8.2)\n",
            "Requirement already satisfied: pytz>=2017.2 in /usr/local/lib/python3.7/dist-packages (from pandas>=0.24->yfinance) (2018.9)\n",
            "Requirement already satisfied: six>=1.5 in /usr/local/lib/python3.7/dist-packages (from python-dateutil>=2.7.3->pandas>=0.24->yfinance) (1.15.0)\n",
            "Requirement already satisfied: certifi>=2017.4.17 in /usr/local/lib/python3.7/dist-packages (from requests>=2.26->yfinance) (2021.10.8)\n",
            "Requirement already satisfied: idna<4,>=2.5 in /usr/local/lib/python3.7/dist-packages (from requests>=2.26->yfinance) (2.10)\n",
            "Requirement already satisfied: urllib3<1.27,>=1.21.1 in /usr/local/lib/python3.7/dist-packages (from requests>=2.26->yfinance) (1.24.3)\n",
            "Requirement already satisfied: charset-normalizer~=2.0.0 in /usr/local/lib/python3.7/dist-packages (from requests>=2.26->yfinance) (2.0.9)\n",
            "Installing collected packages: requests, lxml, yfinance\n",
            "  Attempting uninstall: requests\n",
            "    Found existing installation: requests 2.23.0\n",
            "    Uninstalling requests-2.23.0:\n",
            "      Successfully uninstalled requests-2.23.0\n",
            "  Attempting uninstall: lxml\n",
            "    Found existing installation: lxml 4.2.6\n",
            "    Uninstalling lxml-4.2.6:\n",
            "      Successfully uninstalled lxml-4.2.6\n",
            "\u001b[31mERROR: pip's dependency resolver does not currently take into account all the packages that are installed. This behaviour is the source of the following dependency conflicts.\n",
            "google-colab 1.0.0 requires requests~=2.23.0, but you have requests 2.27.1 which is incompatible.\n",
            "datascience 0.10.6 requires folium==0.2.1, but you have folium 0.8.3 which is incompatible.\u001b[0m\n",
            "Successfully installed lxml-4.7.1 requests-2.27.1 yfinance-0.1.68\n"
          ]
        }
      ]
    },
    {
      "cell_type": "code",
      "metadata": {
        "colab": {
          "base_uri": "https://localhost:8080/"
        },
        "id": "BA09z_J1gxrI",
        "outputId": "207450d9-34ee-4b28-c97b-29d14c2a76b4"
      },
      "source": [
        "!pip install --upgrade mplfinance"
      ],
      "execution_count": null,
      "outputs": [
        {
          "output_type": "stream",
          "name": "stdout",
          "text": [
            "Collecting mplfinance\n",
            "  Downloading mplfinance-0.12.8b6-py3-none-any.whl (64 kB)\n",
            "\u001b[?25l\r\u001b[K     |█████                           | 10 kB 28.5 MB/s eta 0:00:01\r\u001b[K     |██████████▏                     | 20 kB 34.9 MB/s eta 0:00:01\r\u001b[K     |███████████████▎                | 30 kB 40.9 MB/s eta 0:00:01\r\u001b[K     |████████████████████▍           | 40 kB 31.7 MB/s eta 0:00:01\r\u001b[K     |█████████████████████████▌      | 51 kB 33.7 MB/s eta 0:00:01\r\u001b[K     |██████████████████████████████▌ | 61 kB 24.9 MB/s eta 0:00:01\r\u001b[K     |████████████████████████████████| 64 kB 2.6 MB/s \n",
            "\u001b[?25hRequirement already satisfied: matplotlib in /usr/local/lib/python3.7/dist-packages (from mplfinance) (3.2.2)\n",
            "Requirement already satisfied: pandas in /usr/local/lib/python3.7/dist-packages (from mplfinance) (1.1.5)\n",
            "Requirement already satisfied: pyparsing!=2.0.4,!=2.1.2,!=2.1.6,>=2.0.1 in /usr/local/lib/python3.7/dist-packages (from matplotlib->mplfinance) (3.0.6)\n",
            "Requirement already satisfied: numpy>=1.11 in /usr/local/lib/python3.7/dist-packages (from matplotlib->mplfinance) (1.19.5)\n",
            "Requirement already satisfied: kiwisolver>=1.0.1 in /usr/local/lib/python3.7/dist-packages (from matplotlib->mplfinance) (1.3.2)\n",
            "Requirement already satisfied: cycler>=0.10 in /usr/local/lib/python3.7/dist-packages (from matplotlib->mplfinance) (0.11.0)\n",
            "Requirement already satisfied: python-dateutil>=2.1 in /usr/local/lib/python3.7/dist-packages (from matplotlib->mplfinance) (2.8.2)\n",
            "Requirement already satisfied: six>=1.5 in /usr/local/lib/python3.7/dist-packages (from python-dateutil>=2.1->matplotlib->mplfinance) (1.15.0)\n",
            "Requirement already satisfied: pytz>=2017.2 in /usr/local/lib/python3.7/dist-packages (from pandas->mplfinance) (2018.9)\n",
            "Installing collected packages: mplfinance\n",
            "Successfully installed mplfinance-0.12.8b6\n"
          ]
        }
      ]
    },
    {
      "cell_type": "markdown",
      "source": [
        "## Collecting Data"
      ],
      "metadata": {
        "id": "EtRgSDiVonNg"
      }
    },
    {
      "cell_type": "code",
      "metadata": {
        "id": "_OqFJYrlGpmB"
      },
      "source": [
        "import yfinance as yf\n",
        "yf.pdr_override()\n",
        "from pandas_datareader import data as pdr"
      ],
      "execution_count": null,
      "outputs": []
    },
    {
      "cell_type": "code",
      "source": [
        "start = '2003-11-10'\n",
        "end = '2022-01-07'\n",
        "\n",
        "data = pdr.get_data_yahoo(\n",
        "    tickers='BBRI.JK',\n",
        "    start=start,\n",
        "    end= end\n",
        ")"
      ],
      "metadata": {
        "colab": {
          "base_uri": "https://localhost:8080/"
        },
        "id": "k-ONqL8Fo4_j",
        "outputId": "2f5e155f-f5c9-427b-d3d3-dd9d270f92b7"
      },
      "execution_count": null,
      "outputs": [
        {
          "output_type": "stream",
          "name": "stdout",
          "text": [
            "\r[*********************100%***********************]  1 of 1 completed\n"
          ]
        }
      ]
    },
    {
      "cell_type": "markdown",
      "source": [
        "## Data Preprocessing"
      ],
      "metadata": {
        "id": "VbHIQ5d3_ni8"
      }
    },
    {
      "cell_type": "code",
      "source": [
        "data"
      ],
      "metadata": {
        "colab": {
          "base_uri": "https://localhost:8080/",
          "height": 455
        },
        "id": "InCR_M8DpWUT",
        "outputId": "9b61d8bb-d839-43aa-88ea-f6c692ee106e"
      },
      "execution_count": null,
      "outputs": [
        {
          "output_type": "execute_result",
          "data": {
            "text/html": [
              "\n",
              "  <div id=\"df-0acd494e-2f0f-4057-91cf-eea7fcdcf3b6\">\n",
              "    <div class=\"colab-df-container\">\n",
              "      <div>\n",
              "<style scoped>\n",
              "    .dataframe tbody tr th:only-of-type {\n",
              "        vertical-align: middle;\n",
              "    }\n",
              "\n",
              "    .dataframe tbody tr th {\n",
              "        vertical-align: top;\n",
              "    }\n",
              "\n",
              "    .dataframe thead th {\n",
              "        text-align: right;\n",
              "    }\n",
              "</style>\n",
              "<table border=\"1\" class=\"dataframe\">\n",
              "  <thead>\n",
              "    <tr style=\"text-align: right;\">\n",
              "      <th></th>\n",
              "      <th>Open</th>\n",
              "      <th>High</th>\n",
              "      <th>Low</th>\n",
              "      <th>Close</th>\n",
              "      <th>Adj Close</th>\n",
              "      <th>Volume</th>\n",
              "    </tr>\n",
              "    <tr>\n",
              "      <th>Date</th>\n",
              "      <th></th>\n",
              "      <th></th>\n",
              "      <th></th>\n",
              "      <th></th>\n",
              "      <th></th>\n",
              "      <th></th>\n",
              "    </tr>\n",
              "  </thead>\n",
              "  <tbody>\n",
              "    <tr>\n",
              "      <th>2003-11-10</th>\n",
              "      <td>105.0</td>\n",
              "      <td>110.0</td>\n",
              "      <td>95.0</td>\n",
              "      <td>97.5</td>\n",
              "      <td>58.935913</td>\n",
              "      <td>5144140000</td>\n",
              "    </tr>\n",
              "    <tr>\n",
              "      <th>2003-11-11</th>\n",
              "      <td>97.5</td>\n",
              "      <td>100.0</td>\n",
              "      <td>95.0</td>\n",
              "      <td>100.0</td>\n",
              "      <td>60.447098</td>\n",
              "      <td>2938555000</td>\n",
              "    </tr>\n",
              "    <tr>\n",
              "      <th>2003-11-12</th>\n",
              "      <td>97.5</td>\n",
              "      <td>105.0</td>\n",
              "      <td>97.5</td>\n",
              "      <td>105.0</td>\n",
              "      <td>63.469444</td>\n",
              "      <td>2002915000</td>\n",
              "    </tr>\n",
              "    <tr>\n",
              "      <th>2003-11-13</th>\n",
              "      <td>105.0</td>\n",
              "      <td>105.0</td>\n",
              "      <td>102.5</td>\n",
              "      <td>105.0</td>\n",
              "      <td>63.469444</td>\n",
              "      <td>1190050000</td>\n",
              "    </tr>\n",
              "    <tr>\n",
              "      <th>2003-11-14</th>\n",
              "      <td>105.0</td>\n",
              "      <td>105.0</td>\n",
              "      <td>100.0</td>\n",
              "      <td>105.0</td>\n",
              "      <td>63.469444</td>\n",
              "      <td>1725265000</td>\n",
              "    </tr>\n",
              "    <tr>\n",
              "      <th>...</th>\n",
              "      <td>...</td>\n",
              "      <td>...</td>\n",
              "      <td>...</td>\n",
              "      <td>...</td>\n",
              "      <td>...</td>\n",
              "      <td>...</td>\n",
              "    </tr>\n",
              "    <tr>\n",
              "      <th>2021-12-30</th>\n",
              "      <td>4080.0</td>\n",
              "      <td>4140.0</td>\n",
              "      <td>4060.0</td>\n",
              "      <td>4110.0</td>\n",
              "      <td>4110.000000</td>\n",
              "      <td>146989400</td>\n",
              "    </tr>\n",
              "    <tr>\n",
              "      <th>2022-01-03</th>\n",
              "      <td>4120.0</td>\n",
              "      <td>4190.0</td>\n",
              "      <td>4090.0</td>\n",
              "      <td>4180.0</td>\n",
              "      <td>4180.000000</td>\n",
              "      <td>90842500</td>\n",
              "    </tr>\n",
              "    <tr>\n",
              "      <th>2022-01-04</th>\n",
              "      <td>4200.0</td>\n",
              "      <td>4210.0</td>\n",
              "      <td>4160.0</td>\n",
              "      <td>4160.0</td>\n",
              "      <td>4160.000000</td>\n",
              "      <td>93950000</td>\n",
              "    </tr>\n",
              "    <tr>\n",
              "      <th>2022-01-05</th>\n",
              "      <td>4180.0</td>\n",
              "      <td>4230.0</td>\n",
              "      <td>4130.0</td>\n",
              "      <td>4210.0</td>\n",
              "      <td>4210.000000</td>\n",
              "      <td>174376400</td>\n",
              "    </tr>\n",
              "    <tr>\n",
              "      <th>2022-01-06</th>\n",
              "      <td>4240.0</td>\n",
              "      <td>4240.0</td>\n",
              "      <td>4140.0</td>\n",
              "      <td>4160.0</td>\n",
              "      <td>4160.000000</td>\n",
              "      <td>137280000</td>\n",
              "    </tr>\n",
              "  </tbody>\n",
              "</table>\n",
              "<p>4518 rows × 6 columns</p>\n",
              "</div>\n",
              "      <button class=\"colab-df-convert\" onclick=\"convertToInteractive('df-0acd494e-2f0f-4057-91cf-eea7fcdcf3b6')\"\n",
              "              title=\"Convert this dataframe to an interactive table.\"\n",
              "              style=\"display:none;\">\n",
              "        \n",
              "  <svg xmlns=\"http://www.w3.org/2000/svg\" height=\"24px\"viewBox=\"0 0 24 24\"\n",
              "       width=\"24px\">\n",
              "    <path d=\"M0 0h24v24H0V0z\" fill=\"none\"/>\n",
              "    <path d=\"M18.56 5.44l.94 2.06.94-2.06 2.06-.94-2.06-.94-.94-2.06-.94 2.06-2.06.94zm-11 1L8.5 8.5l.94-2.06 2.06-.94-2.06-.94L8.5 2.5l-.94 2.06-2.06.94zm10 10l.94 2.06.94-2.06 2.06-.94-2.06-.94-.94-2.06-.94 2.06-2.06.94z\"/><path d=\"M17.41 7.96l-1.37-1.37c-.4-.4-.92-.59-1.43-.59-.52 0-1.04.2-1.43.59L10.3 9.45l-7.72 7.72c-.78.78-.78 2.05 0 2.83L4 21.41c.39.39.9.59 1.41.59.51 0 1.02-.2 1.41-.59l7.78-7.78 2.81-2.81c.8-.78.8-2.07 0-2.86zM5.41 20L4 18.59l7.72-7.72 1.47 1.35L5.41 20z\"/>\n",
              "  </svg>\n",
              "      </button>\n",
              "      \n",
              "  <style>\n",
              "    .colab-df-container {\n",
              "      display:flex;\n",
              "      flex-wrap:wrap;\n",
              "      gap: 12px;\n",
              "    }\n",
              "\n",
              "    .colab-df-convert {\n",
              "      background-color: #E8F0FE;\n",
              "      border: none;\n",
              "      border-radius: 50%;\n",
              "      cursor: pointer;\n",
              "      display: none;\n",
              "      fill: #1967D2;\n",
              "      height: 32px;\n",
              "      padding: 0 0 0 0;\n",
              "      width: 32px;\n",
              "    }\n",
              "\n",
              "    .colab-df-convert:hover {\n",
              "      background-color: #E2EBFA;\n",
              "      box-shadow: 0px 1px 2px rgba(60, 64, 67, 0.3), 0px 1px 3px 1px rgba(60, 64, 67, 0.15);\n",
              "      fill: #174EA6;\n",
              "    }\n",
              "\n",
              "    [theme=dark] .colab-df-convert {\n",
              "      background-color: #3B4455;\n",
              "      fill: #D2E3FC;\n",
              "    }\n",
              "\n",
              "    [theme=dark] .colab-df-convert:hover {\n",
              "      background-color: #434B5C;\n",
              "      box-shadow: 0px 1px 3px 1px rgba(0, 0, 0, 0.15);\n",
              "      filter: drop-shadow(0px 1px 2px rgba(0, 0, 0, 0.3));\n",
              "      fill: #FFFFFF;\n",
              "    }\n",
              "  </style>\n",
              "\n",
              "      <script>\n",
              "        const buttonEl =\n",
              "          document.querySelector('#df-0acd494e-2f0f-4057-91cf-eea7fcdcf3b6 button.colab-df-convert');\n",
              "        buttonEl.style.display =\n",
              "          google.colab.kernel.accessAllowed ? 'block' : 'none';\n",
              "\n",
              "        async function convertToInteractive(key) {\n",
              "          const element = document.querySelector('#df-0acd494e-2f0f-4057-91cf-eea7fcdcf3b6');\n",
              "          const dataTable =\n",
              "            await google.colab.kernel.invokeFunction('convertToInteractive',\n",
              "                                                     [key], {});\n",
              "          if (!dataTable) return;\n",
              "\n",
              "          const docLinkHtml = 'Like what you see? Visit the ' +\n",
              "            '<a target=\"_blank\" href=https://colab.research.google.com/notebooks/data_table.ipynb>data table notebook</a>'\n",
              "            + ' to learn more about interactive tables.';\n",
              "          element.innerHTML = '';\n",
              "          dataTable['output_type'] = 'display_data';\n",
              "          await google.colab.output.renderOutput(dataTable, element);\n",
              "          const docLink = document.createElement('div');\n",
              "          docLink.innerHTML = docLinkHtml;\n",
              "          element.appendChild(docLink);\n",
              "        }\n",
              "      </script>\n",
              "    </div>\n",
              "  </div>\n",
              "  "
            ],
            "text/plain": [
              "              Open    High     Low   Close    Adj Close      Volume\n",
              "Date                                                               \n",
              "2003-11-10   105.0   110.0    95.0    97.5    58.935913  5144140000\n",
              "2003-11-11    97.5   100.0    95.0   100.0    60.447098  2938555000\n",
              "2003-11-12    97.5   105.0    97.5   105.0    63.469444  2002915000\n",
              "2003-11-13   105.0   105.0   102.5   105.0    63.469444  1190050000\n",
              "2003-11-14   105.0   105.0   100.0   105.0    63.469444  1725265000\n",
              "...            ...     ...     ...     ...          ...         ...\n",
              "2021-12-30  4080.0  4140.0  4060.0  4110.0  4110.000000   146989400\n",
              "2022-01-03  4120.0  4190.0  4090.0  4180.0  4180.000000    90842500\n",
              "2022-01-04  4200.0  4210.0  4160.0  4160.0  4160.000000    93950000\n",
              "2022-01-05  4180.0  4230.0  4130.0  4210.0  4210.000000   174376400\n",
              "2022-01-06  4240.0  4240.0  4140.0  4160.0  4160.000000   137280000\n",
              "\n",
              "[4518 rows x 6 columns]"
            ]
          },
          "metadata": {},
          "execution_count": 5
        }
      ]
    },
    {
      "cell_type": "code",
      "source": [
        "data.isnull().sum()"
      ],
      "metadata": {
        "colab": {
          "base_uri": "https://localhost:8080/"
        },
        "id": "IrysIHakpdq0",
        "outputId": "20a24837-28cb-4b2a-cac4-d821eea73197"
      },
      "execution_count": null,
      "outputs": [
        {
          "output_type": "execute_result",
          "data": {
            "text/plain": [
              "Open         0\n",
              "High         0\n",
              "Low          0\n",
              "Close        0\n",
              "Adj Close    0\n",
              "Volume       0\n",
              "dtype: int64"
            ]
          },
          "metadata": {},
          "execution_count": 6
        }
      ]
    },
    {
      "cell_type": "code",
      "source": [
        "import matplotlib.pyplot as plt\n",
        "\n",
        "dates = data.index\n",
        "close  = data['Close'].values\n",
        " \n",
        "_ = plt.figure(figsize=(20,5))\n",
        "_ = plt.plot(dates, close)\n",
        "_ = plt.title('Closing Price', fontsize=20)\n",
        "_ = plt.plot()"
      ],
      "metadata": {
        "colab": {
          "base_uri": "https://localhost:8080/",
          "height": 341
        },
        "id": "E3hwlZmWp7ii",
        "outputId": "39fd1876-9313-458c-d7f3-0ceec6c843b1"
      },
      "execution_count": null,
      "outputs": [
        {
          "output_type": "display_data",
          "data": {
            "image/png": "[encoded data removed]",
            "text/plain": [
              "<Figure size 1440x360 with 1 Axes>"
            ]
          },
          "metadata": {
            "needs_background": "light"
          }
        }
      ]
    },
    {
      "cell_type": "code",
      "source": [
        "# Normalisasi features\n",
        "from sklearn.preprocessing import MinMaxScaler\n",
        "\n",
        "scaler = MinMaxScaler(feature_range=(0,1))\n",
        "close = scaler.fit_transform(close.reshape(-1,1))"
      ],
      "metadata": {
        "id": "IXWoU6V6qfYd"
      },
      "execution_count": null,
      "outputs": []
    },
    {
      "cell_type": "code",
      "source": [
        "close"
      ],
      "metadata": {
        "colab": {
          "base_uri": "https://localhost:8080/"
        },
        "id": "AkOdUJM52XJo",
        "outputId": "bc61f22b-85d2-4c54-9947-f27b1504c4c4"
      },
      "execution_count": null,
      "outputs": [
        {
          "output_type": "execute_result",
          "data": {
            "text/plain": [
              "array([[0.00000000e+00],\n",
              "       [5.21648409e-04],\n",
              "       [1.56494523e-03],\n",
              "       ...,\n",
              "       [8.47678665e-01],\n",
              "       [8.58111633e-01],\n",
              "       [8.47678665e-01]])"
            ]
          },
          "metadata": {},
          "execution_count": 9
        }
      ]
    },
    {
      "cell_type": "code",
      "source": [
        "import pandas as pd\n",
        "\n",
        "def series_to_supervised(data, n_in=1, n_out=1, dropnan=True):\n",
        "  \"\"\" Fungsi ini dibuat untuk membentuk supervised (yang terdapat nilai target)\n",
        "      \n",
        "      parameter :\n",
        "\n",
        "      - data, baik belum atau sudah di normalisasi\n",
        "      - n_in atau time steps : jumlah langkah mundur (hari)/ time steps \n",
        "                               sebagai input untuk prediksi \n",
        "      - n_out atau future time steps : jumlah langkah maju (hari) yang\n",
        "                                       nilainya diprediksi sebagai target\n",
        "\n",
        "      return :\n",
        "\n",
        "      dataframe dengan sejumlah n features (n: jumlah timesteps) \n",
        "      dan target sejumlah hari / future time steps sesuai dengan column target.\n",
        "  \"\"\"\n",
        "  \n",
        "  # univariate\n",
        "  n_vars = 1\n",
        "\n",
        "  df = pd.DataFrame(data)\n",
        "  cols, col_names = [], []\n",
        "\n",
        "  # buat features\n",
        "  for i in range(n_in, 0, -1):\n",
        "    cols.append(df.shift(i))\n",
        "    col_names += ['Closing Price Feature(t-%d)'%(i)]\n",
        "  \n",
        "  # buat target\n",
        "  for i in range(0, n_out):\n",
        "    cols.append(df.shift(-i))\n",
        "    if i == 0:\n",
        "      col_names += ['Closing Price Target(t)']\n",
        "    else:\n",
        "      col_names += ['Closing Price Target(t+{})'.format(i)]\n",
        "  \n",
        "  df = pd.concat(cols, axis=1)\n",
        "  df.columns = col_names\n",
        "\n",
        "  if dropnan:\n",
        "    df.dropna(inplace=True)\n",
        "  \n",
        "  return df"
      ],
      "metadata": {
        "id": "dRh_Rkzw24MV"
      },
      "execution_count": null,
      "outputs": []
    },
    {
      "cell_type": "code",
      "source": [
        "# Config\n",
        "\n",
        "timeSteps=10        # 10 hari terakhir sebagai input (dua minggu)\n",
        "futureTimeSteps=5   # prediksi 5 hari ke depan (satu minggu)\n",
        "n_features = close.shape[1]\n",
        "n_observe = timeSteps * n_features    # jumlah feature series to supervised"
      ],
      "metadata": {
        "id": "jmK7Wq2h3AhV"
      },
      "execution_count": null,
      "outputs": []
    },
    {
      "cell_type": "code",
      "source": [
        "# bentuk menjadi dataframe series to supervised\n",
        "\n",
        "data_supervised = series_to_supervised(close, timeSteps, futureTimeSteps)\n",
        "data_supervised.head()"
      ],
      "metadata": {
        "colab": {
          "base_uri": "https://localhost:8080/",
          "height": 322
        },
        "id": "e9rVFmwG3BhK",
        "outputId": "01b9aa91-f6cd-46fa-a39e-2a29ef9b2b95"
      },
      "execution_count": null,
      "outputs": [
        {
          "output_type": "execute_result",
          "data": {
            "text/html": [
              "\n",
              "  <div id=\"df-a2d6406b-63c7-46bb-b0ea-62da51904c9a\">\n",
              "    <div class=\"colab-df-container\">\n",
              "      <div>\n",
              "<style scoped>\n",
              "    .dataframe tbody tr th:only-of-type {\n",
              "        vertical-align: middle;\n",
              "    }\n",
              "\n",
              "    .dataframe tbody tr th {\n",
              "        vertical-align: top;\n",
              "    }\n",
              "\n",
              "    .dataframe thead th {\n",
              "        text-align: right;\n",
              "    }\n",
              "</style>\n",
              "<table border=\"1\" class=\"dataframe\">\n",
              "  <thead>\n",
              "    <tr style=\"text-align: right;\">\n",
              "      <th></th>\n",
              "      <th>Closing Price Feature(t-10)</th>\n",
              "      <th>Closing Price Feature(t-9)</th>\n",
              "      <th>Closing Price Feature(t-8)</th>\n",
              "      <th>Closing Price Feature(t-7)</th>\n",
              "      <th>Closing Price Feature(t-6)</th>\n",
              "      <th>Closing Price Feature(t-5)</th>\n",
              "      <th>Closing Price Feature(t-4)</th>\n",
              "      <th>Closing Price Feature(t-3)</th>\n",
              "      <th>Closing Price Feature(t-2)</th>\n",
              "      <th>Closing Price Feature(t-1)</th>\n",
              "      <th>Closing Price Target(t)</th>\n",
              "      <th>Closing Price Target(t+1)</th>\n",
              "      <th>Closing Price Target(t+2)</th>\n",
              "      <th>Closing Price Target(t+3)</th>\n",
              "      <th>Closing Price Target(t+4)</th>\n",
              "    </tr>\n",
              "  </thead>\n",
              "  <tbody>\n",
              "    <tr>\n",
              "      <th>10</th>\n",
              "      <td>0.000000</td>\n",
              "      <td>0.000522</td>\n",
              "      <td>0.001565</td>\n",
              "      <td>0.001565</td>\n",
              "      <td>0.001565</td>\n",
              "      <td>0.000522</td>\n",
              "      <td>0.000000</td>\n",
              "      <td>0.000522</td>\n",
              "      <td>0.001043</td>\n",
              "      <td>0.001565</td>\n",
              "      <td>0.001565</td>\n",
              "      <td>0.001565</td>\n",
              "      <td>0.001565</td>\n",
              "      <td>0.001565</td>\n",
              "      <td>0.001565</td>\n",
              "    </tr>\n",
              "    <tr>\n",
              "      <th>11</th>\n",
              "      <td>0.000522</td>\n",
              "      <td>0.001565</td>\n",
              "      <td>0.001565</td>\n",
              "      <td>0.001565</td>\n",
              "      <td>0.000522</td>\n",
              "      <td>0.000000</td>\n",
              "      <td>0.000522</td>\n",
              "      <td>0.001043</td>\n",
              "      <td>0.001565</td>\n",
              "      <td>0.001565</td>\n",
              "      <td>0.001565</td>\n",
              "      <td>0.001565</td>\n",
              "      <td>0.001565</td>\n",
              "      <td>0.001565</td>\n",
              "      <td>0.002087</td>\n",
              "    </tr>\n",
              "    <tr>\n",
              "      <th>12</th>\n",
              "      <td>0.001565</td>\n",
              "      <td>0.001565</td>\n",
              "      <td>0.001565</td>\n",
              "      <td>0.000522</td>\n",
              "      <td>0.000000</td>\n",
              "      <td>0.000522</td>\n",
              "      <td>0.001043</td>\n",
              "      <td>0.001565</td>\n",
              "      <td>0.001565</td>\n",
              "      <td>0.001565</td>\n",
              "      <td>0.001565</td>\n",
              "      <td>0.001565</td>\n",
              "      <td>0.001565</td>\n",
              "      <td>0.002087</td>\n",
              "      <td>0.001565</td>\n",
              "    </tr>\n",
              "    <tr>\n",
              "      <th>13</th>\n",
              "      <td>0.001565</td>\n",
              "      <td>0.001565</td>\n",
              "      <td>0.000522</td>\n",
              "      <td>0.000000</td>\n",
              "      <td>0.000522</td>\n",
              "      <td>0.001043</td>\n",
              "      <td>0.001565</td>\n",
              "      <td>0.001565</td>\n",
              "      <td>0.001565</td>\n",
              "      <td>0.001565</td>\n",
              "      <td>0.001565</td>\n",
              "      <td>0.001565</td>\n",
              "      <td>0.002087</td>\n",
              "      <td>0.001565</td>\n",
              "      <td>0.001043</td>\n",
              "    </tr>\n",
              "    <tr>\n",
              "      <th>14</th>\n",
              "      <td>0.001565</td>\n",
              "      <td>0.000522</td>\n",
              "      <td>0.000000</td>\n",
              "      <td>0.000522</td>\n",
              "      <td>0.001043</td>\n",
              "      <td>0.001565</td>\n",
              "      <td>0.001565</td>\n",
              "      <td>0.001565</td>\n",
              "      <td>0.001565</td>\n",
              "      <td>0.001565</td>\n",
              "      <td>0.001565</td>\n",
              "      <td>0.002087</td>\n",
              "      <td>0.001565</td>\n",
              "      <td>0.001043</td>\n",
              "      <td>0.001565</td>\n",
              "    </tr>\n",
              "  </tbody>\n",
              "</table>\n",
              "</div>\n",
              "      <button class=\"colab-df-convert\" onclick=\"convertToInteractive('df-a2d6406b-63c7-46bb-b0ea-62da51904c9a')\"\n",
              "              title=\"Convert this dataframe to an interactive table.\"\n",
              "              style=\"display:none;\">\n",
              "        \n",
              "  <svg xmlns=\"http://www.w3.org/2000/svg\" height=\"24px\"viewBox=\"0 0 24 24\"\n",
              "       width=\"24px\">\n",
              "    <path d=\"M0 0h24v24H0V0z\" fill=\"none\"/>\n",
              "    <path d=\"M18.56 5.44l.94 2.06.94-2.06 2.06-.94-2.06-.94-.94-2.06-.94 2.06-2.06.94zm-11 1L8.5 8.5l.94-2.06 2.06-.94-2.06-.94L8.5 2.5l-.94 2.06-2.06.94zm10 10l.94 2.06.94-2.06 2.06-.94-2.06-.94-.94-2.06-.94 2.06-2.06.94z\"/><path d=\"M17.41 7.96l-1.37-1.37c-.4-.4-.92-.59-1.43-.59-.52 0-1.04.2-1.43.59L10.3 9.45l-7.72 7.72c-.78.78-.78 2.05 0 2.83L4 21.41c.39.39.9.59 1.41.59.51 0 1.02-.2 1.41-.59l7.78-7.78 2.81-2.81c.8-.78.8-2.07 0-2.86zM5.41 20L4 18.59l7.72-7.72 1.47 1.35L5.41 20z\"/>\n",
              "  </svg>\n",
              "      </button>\n",
              "      \n",
              "  <style>\n",
              "    .colab-df-container {\n",
              "      display:flex;\n",
              "      flex-wrap:wrap;\n",
              "      gap: 12px;\n",
              "    }\n",
              "\n",
              "    .colab-df-convert {\n",
              "      background-color: #E8F0FE;\n",
              "      border: none;\n",
              "      border-radius: 50%;\n",
              "      cursor: pointer;\n",
              "      display: none;\n",
              "      fill: #1967D2;\n",
              "      height: 32px;\n",
              "      padding: 0 0 0 0;\n",
              "      width: 32px;\n",
              "    }\n",
              "\n",
              "    .colab-df-convert:hover {\n",
              "      background-color: #E2EBFA;\n",
              "      box-shadow: 0px 1px 2px rgba(60, 64, 67, 0.3), 0px 1px 3px 1px rgba(60, 64, 67, 0.15);\n",
              "      fill: #174EA6;\n",
              "    }\n",
              "\n",
              "    [theme=dark] .colab-df-convert {\n",
              "      background-color: #3B4455;\n",
              "      fill: #D2E3FC;\n",
              "    }\n",
              "\n",
              "    [theme=dark] .colab-df-convert:hover {\n",
              "      background-color: #434B5C;\n",
              "      box-shadow: 0px 1px 3px 1px rgba(0, 0, 0, 0.15);\n",
              "      filter: drop-shadow(0px 1px 2px rgba(0, 0, 0, 0.3));\n",
              "      fill: #FFFFFF;\n",
              "    }\n",
              "  </style>\n",
              "\n",
              "      <script>\n",
              "        const buttonEl =\n",
              "          document.querySelector('#df-a2d6406b-63c7-46bb-b0ea-62da51904c9a button.colab-df-convert');\n",
              "        buttonEl.style.display =\n",
              "          google.colab.kernel.accessAllowed ? 'block' : 'none';\n",
              "\n",
              "        async function convertToInteractive(key) {\n",
              "          const element = document.querySelector('#df-a2d6406b-63c7-46bb-b0ea-62da51904c9a');\n",
              "          const dataTable =\n",
              "            await google.colab.kernel.invokeFunction('convertToInteractive',\n",
              "                                                     [key], {});\n",
              "          if (!dataTable) return;\n",
              "\n",
              "          const docLinkHtml = 'Like what you see? Visit the ' +\n",
              "            '<a target=\"_blank\" href=https://colab.research.google.com/notebooks/data_table.ipynb>data table notebook</a>'\n",
              "            + ' to learn more about interactive tables.';\n",
              "          element.innerHTML = '';\n",
              "          dataTable['output_type'] = 'display_data';\n",
              "          await google.colab.output.renderOutput(dataTable, element);\n",
              "          const docLink = document.createElement('div');\n",
              "          docLink.innerHTML = docLinkHtml;\n",
              "          element.appendChild(docLink);\n",
              "        }\n",
              "      </script>\n",
              "    </div>\n",
              "  </div>\n",
              "  "
            ],
            "text/plain": [
              "    Closing Price Feature(t-10)  ...  Closing Price Target(t+4)\n",
              "10                     0.000000  ...                   0.001565\n",
              "11                     0.000522  ...                   0.002087\n",
              "12                     0.001565  ...                   0.001565\n",
              "13                     0.001565  ...                   0.001043\n",
              "14                     0.001565  ...                   0.001565\n",
              "\n",
              "[5 rows x 15 columns]"
            ]
          },
          "metadata": {},
          "execution_count": 12
        }
      ]
    },
    {
      "cell_type": "code",
      "source": [
        "# bagi data feature dan target\n",
        "\n",
        "X = data_supervised.values[:, :n_observe]\n",
        "y = data_supervised.values[:, n_observe:]"
      ],
      "metadata": {
        "id": "Dmwi76k-7gey"
      },
      "execution_count": null,
      "outputs": []
    },
    {
      "cell_type": "code",
      "source": [
        "# Siapkan data untuk dilatih dan divalidasi (20%)\n",
        "from sklearn.model_selection import train_test_split\n",
        "\n",
        "X_train, X_val, y_train, y_val = train_test_split(X, y, \n",
        "                                                  test_size=0.2, \n",
        "                                                  shuffle=False)"
      ],
      "metadata": {
        "id": "n585Xhp98RoN"
      },
      "execution_count": null,
      "outputs": []
    },
    {
      "cell_type": "code",
      "source": [
        "len(y), y_train.shape, y_val.shape"
      ],
      "metadata": {
        "colab": {
          "base_uri": "https://localhost:8080/"
        },
        "id": "yKyCJMGwT4sq",
        "outputId": "fe36f902-55b8-41cc-f500-b5344cb1756b"
      },
      "execution_count": null,
      "outputs": [
        {
          "output_type": "execute_result",
          "data": {
            "text/plain": [
              "(4504, (3603, 5), (901, 5))"
            ]
          },
          "metadata": {},
          "execution_count": 15
        }
      ]
    },
    {
      "cell_type": "code",
      "source": [
        "# plot pembagian data (20% validasi)\n",
        "plt.figure(figsize=(20, 5))\n",
        "plt.plot(y_train.reshape(-1,))\n",
        "plt.plot([None for i in y_train.reshape(-1,)] + [j for j in y_val.reshape(-1,)])\n",
        "plt.legend(('Train', 'Val'), loc='best')\n",
        "plt.xticks([])\n",
        "plt.yticks([])\n",
        "plt.show()"
      ],
      "metadata": {
        "colab": {
          "base_uri": "https://localhost:8080/",
          "height": 306
        },
        "id": "DYaGDIaH8UgE",
        "outputId": "9087b4a8-b530-4c4b-f0cf-20145b2643c9"
      },
      "execution_count": null,
      "outputs": [
        {
          "output_type": "display_data",
          "data": {
            "image/png": "[encoded data removed]",
            "text/plain": [
              "<Figure size 1440x360 with 1 Axes>"
            ]
          },
          "metadata": {}
        }
      ]
    },
    {
      "cell_type": "code",
      "source": [
        "# reshape input untuk lstm model\n",
        "\n",
        "X_train = X_train.reshape(X_train.shape[0], timeSteps, n_features)\n",
        "X_val = X_val.reshape(X_val.shape[0], timeSteps, n_features)"
      ],
      "metadata": {
        "id": "PIvK_0yJ8hEl"
      },
      "execution_count": null,
      "outputs": []
    },
    {
      "cell_type": "code",
      "source": [
        "# jumlah rows dari data training, jumlah timestamp, jumlah feature\n",
        "print(X_train.shape, X_val.shape)"
      ],
      "metadata": {
        "colab": {
          "base_uri": "https://localhost:8080/"
        },
        "id": "nzJMXwop8pAZ",
        "outputId": "4ce91d92-44d6-4828-bdf4-246881ceb29f"
      },
      "execution_count": null,
      "outputs": [
        {
          "output_type": "stream",
          "name": "stdout",
          "text": [
            "(3603, 10, 1) (901, 10, 1)\n"
          ]
        }
      ]
    },
    {
      "cell_type": "markdown",
      "source": [
        "## Modeling"
      ],
      "metadata": {
        "id": "GxF_ies389x7"
      }
    },
    {
      "cell_type": "code",
      "source": [
        "from tensorflow.keras.models import Sequential\n",
        "from tensorflow.keras.layers import LSTM, Dense, Dropout\n",
        "from tensorflow.keras.optimizers import Adam"
      ],
      "metadata": {
        "id": "7JClKnip9OK9"
      },
      "execution_count": null,
      "outputs": []
    },
    {
      "cell_type": "code",
      "source": [
        "# buat model\n",
        "def build_model():\n",
        "    m = Sequential([\n",
        "                    LSTM(64, input_shape=(timeSteps, n_features), return_sequences=True),\n",
        "                    LSTM(32, dropout=0.4),\n",
        "    #                Dense(64, 'relu'),\n",
        "    #                Dropout(0.3),\n",
        "    #                Dense(32, 'relu'),\n",
        "                    Dense(futureTimeSteps)\n",
        "    ])\n",
        "    m.compile(loss='mse', optimizer=Adam(learning_rate=3e-5), metrics='mae')\n",
        "    return m"
      ],
      "metadata": {
        "id": "V0ZKNXbU8sEe"
      },
      "execution_count": null,
      "outputs": []
    },
    {
      "cell_type": "code",
      "source": [
        "from tensorflow.keras.callbacks import  EarlyStopping\n",
        "\n",
        "early_stopping = EarlyStopping(monitor='val_loss',\n",
        "                               patience=3,\n",
        "                               mode='min')"
      ],
      "metadata": {
        "id": "R8JLJHBv9AOS"
      },
      "execution_count": null,
      "outputs": []
    },
    {
      "cell_type": "code",
      "source": [
        "model_lstm = build_model()\n",
        "\n",
        "history = model_lstm.fit(\n",
        "    X_train, y_train, validation_data=(X_val, y_val),\n",
        "    epochs=100, shuffle=False,\n",
        "    callbacks=[early_stopping]\n",
        ")"
      ],
      "metadata": {
        "colab": {
          "base_uri": "https://localhost:8080/"
        },
        "id": "WuChUgKl9lDM",
        "outputId": "cfdb4095-ee05-4ee6-b0cb-afaafaffb357"
      },
      "execution_count": null,
      "outputs": [
        {
          "output_type": "stream",
          "name": "stdout",
          "text": [
            "Epoch 1/100\n",
            "113/113 [==============================] - 6s 21ms/step - loss: 0.0570 - mae: 0.1908 - val_loss: 0.3165 - val_mae: 0.5474\n",
            "Epoch 2/100\n",
            "113/113 [==============================] - 1s 13ms/step - loss: 0.0333 - mae: 0.1349 - val_loss: 0.1999 - val_mae: 0.4268\n",
            "Epoch 3/100\n",
            "113/113 [==============================] - 1s 13ms/step - loss: 0.0179 - mae: 0.0988 - val_loss: 0.1081 - val_mae: 0.3025\n",
            "Epoch 4/100\n",
            "113/113 [==============================] - 2s 13ms/step - loss: 0.0098 - mae: 0.0787 - val_loss: 0.0545 - val_mae: 0.2073\n",
            "Epoch 5/100\n",
            "113/113 [==============================] - 1s 13ms/step - loss: 0.0067 - mae: 0.0686 - val_loss: 0.0291 - val_mae: 0.1489\n",
            "Epoch 6/100\n",
            "113/113 [==============================] - 1s 13ms/step - loss: 0.0052 - mae: 0.0610 - val_loss: 0.0170 - val_mae: 0.1123\n",
            "Epoch 7/100\n",
            "113/113 [==============================] - 1s 13ms/step - loss: 0.0042 - mae: 0.0547 - val_loss: 0.0107 - val_mae: 0.0879\n",
            "Epoch 8/100\n",
            "113/113 [==============================] - 1s 13ms/step - loss: 0.0034 - mae: 0.0487 - val_loss: 0.0071 - val_mae: 0.0701\n",
            "Epoch 9/100\n",
            "113/113 [==============================] - 1s 13ms/step - loss: 0.0027 - mae: 0.0433 - val_loss: 0.0051 - val_mae: 0.0581\n",
            "Epoch 10/100\n",
            "113/113 [==============================] - 1s 13ms/step - loss: 0.0021 - mae: 0.0383 - val_loss: 0.0038 - val_mae: 0.0494\n",
            "Epoch 11/100\n",
            "113/113 [==============================] - 1s 13ms/step - loss: 0.0018 - mae: 0.0345 - val_loss: 0.0031 - val_mae: 0.0437\n",
            "Epoch 12/100\n",
            "113/113 [==============================] - 1s 13ms/step - loss: 0.0015 - mae: 0.0314 - val_loss: 0.0027 - val_mae: 0.0399\n",
            "Epoch 13/100\n",
            "113/113 [==============================] - 1s 13ms/step - loss: 0.0013 - mae: 0.0287 - val_loss: 0.0025 - val_mae: 0.0374\n",
            "Epoch 14/100\n",
            "113/113 [==============================] - 1s 13ms/step - loss: 0.0012 - mae: 0.0271 - val_loss: 0.0023 - val_mae: 0.0359\n",
            "Epoch 15/100\n",
            "113/113 [==============================] - 1s 13ms/step - loss: 0.0011 - mae: 0.0255 - val_loss: 0.0022 - val_mae: 0.0349\n",
            "Epoch 16/100\n",
            "113/113 [==============================] - 2s 13ms/step - loss: 0.0010 - mae: 0.0243 - val_loss: 0.0022 - val_mae: 0.0342\n",
            "Epoch 17/100\n",
            "113/113 [==============================] - 1s 12ms/step - loss: 9.9093e-04 - mae: 0.0236 - val_loss: 0.0021 - val_mae: 0.0335\n",
            "Epoch 18/100\n",
            "113/113 [==============================] - 1s 13ms/step - loss: 9.3819e-04 - mae: 0.0228 - val_loss: 0.0021 - val_mae: 0.0332\n",
            "Epoch 19/100\n",
            "113/113 [==============================] - 1s 13ms/step - loss: 8.9009e-04 - mae: 0.0221 - val_loss: 0.0021 - val_mae: 0.0329\n",
            "Epoch 20/100\n",
            "113/113 [==============================] - 1s 13ms/step - loss: 8.8911e-04 - mae: 0.0220 - val_loss: 0.0021 - val_mae: 0.0329\n",
            "Epoch 21/100\n",
            "113/113 [==============================] - 1s 13ms/step - loss: 8.4741e-04 - mae: 0.0214 - val_loss: 0.0021 - val_mae: 0.0331\n",
            "Epoch 22/100\n",
            "113/113 [==============================] - 1s 13ms/step - loss: 8.3645e-04 - mae: 0.0210 - val_loss: 0.0020 - val_mae: 0.0329\n",
            "Epoch 23/100\n",
            "113/113 [==============================] - 1s 13ms/step - loss: 8.2537e-04 - mae: 0.0208 - val_loss: 0.0020 - val_mae: 0.0324\n",
            "Epoch 24/100\n",
            "113/113 [==============================] - 1s 13ms/step - loss: 7.7647e-04 - mae: 0.0202 - val_loss: 0.0020 - val_mae: 0.0330\n",
            "Epoch 25/100\n",
            "113/113 [==============================] - 1s 13ms/step - loss: 7.5791e-04 - mae: 0.0197 - val_loss: 0.0020 - val_mae: 0.0329\n",
            "Epoch 26/100\n",
            "113/113 [==============================] - 1s 13ms/step - loss: 7.4522e-04 - mae: 0.0194 - val_loss: 0.0020 - val_mae: 0.0330\n"
          ]
        }
      ]
    },
    {
      "cell_type": "markdown",
      "source": [
        "## Evaluation"
      ],
      "metadata": {
        "id": "V2pZFuDdjuK5"
      }
    },
    {
      "cell_type": "code",
      "source": [
        "# ploting loss\n",
        "\n",
        "fig, axs = plt.subplots(1, 2, figsize=(12,5))\n",
        "fig.suptitle('MSE dan MAE Loss')\n",
        "\n",
        "axs[0].plot(history.history['loss'], label='loss')\n",
        "axs[0].plot(history.history['val_loss'], label='mse val loss')\n",
        "axs[0].set_ylabel('MSE Loss')\n",
        "axs[0].set_xlabel('Epochs')\n",
        "axs[0].legend()\n",
        "axs[0].set_ylim([0, 0.04])\n",
        "\n",
        "axs[1].plot(history.history['mae'], label='loss')\n",
        "axs[1].plot(history.history['val_mae'], label='val loss')\n",
        "axs[1].set_ylabel('MAE Loss')\n",
        "axs[1].set_xlabel('Epochs')\n",
        "axs[1].legend()\n",
        "axs[1].set_ylim([0, 0.5])\n",
        "\n",
        "fig.show()"
      ],
      "metadata": {
        "colab": {
          "base_uri": "https://localhost:8080/",
          "height": 370
        },
        "id": "UR03evvcAJ1q",
        "outputId": "d564dc66-8c27-4b2c-bf86-0cfab37f235f"
      },
      "execution_count": null,
      "outputs": [
        {
          "output_type": "display_data",
          "data": {
            "image/png": "[encoded data removed]",
            "text/plain": [
              "<Figure size 864x360 with 2 Axes>"
            ]
          },
          "metadata": {
            "needs_background": "light"
          }
        }
      ]
    },
    {
      "cell_type": "code",
      "source": [
        "# MSE dan MAE daei train dan val\n",
        "print('Train, MSE: {}, MAE: {}'.format(model_lstm.evaluate(X_train, y_train, verbose=0)[0],\n",
        "                                            model_lstm.evaluate(X_train, y_train, verbose=0)[1]))\n",
        "print('Val, MSE: {}, MAE: {}'.format(model_lstm.evaluate(X_val, y_val, verbose=0)[0],\n",
        "                                          model_lstm.evaluate(X_val, y_val, verbose=0)[1]))"
      ],
      "metadata": {
        "colab": {
          "base_uri": "https://localhost:8080/"
        },
        "id": "Jh2W5eaQd2qy",
        "outputId": "abb96545-7457-49e2-be7b-b5c3740fd647"
      },
      "execution_count": null,
      "outputs": [
        {
          "output_type": "stream",
          "name": "stdout",
          "text": [
            "Train, MSE: 0.00028539495542645454, MAE: 0.012359433807432652\n",
            "Val, MSE: 0.002047414192929864, MAE: 0.03301858529448509\n"
          ]
        }
      ]
    },
    {
      "cell_type": "code",
      "source": [
        "# Hitung r2 score dari data validasi\n",
        "from sklearn.metrics import r2_score, mean_squared_error\n",
        "from math import sqrt\n",
        "\n",
        "y_val_pred_lstm = model_lstm.predict(X_val)\n",
        "\n",
        "r2 = r2_score(y_val, y_val_pred_lstm)\n",
        "rmse = sqrt(mean_squared_error(y_val, y_val_pred_lstm))\n",
        "print('Test r2 score: {}'.format(r2))\n",
        "print('Test rmse: {}'.format(rmse))"
      ],
      "metadata": {
        "colab": {
          "base_uri": "https://localhost:8080/"
        },
        "id": "K6hfE3lMBpmd",
        "outputId": "aa4d1c8f-741e-4f45-e2d9-43f8c3f2f8a1"
      },
      "execution_count": null,
      "outputs": [
        {
          "output_type": "stream",
          "name": "stdout",
          "text": [
            "Test r2 score: 0.8547912441843968\n",
            "Test rmse: 0.04524836424335187\n"
          ]
        }
      ]
    }
  ]
}